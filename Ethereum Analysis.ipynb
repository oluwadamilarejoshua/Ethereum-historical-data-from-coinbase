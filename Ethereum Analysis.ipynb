{
 "cells": [
  {
   "cell_type": "code",
   "execution_count": 3,
   "metadata": {},
   "outputs": [],
   "source": [
    "from cryptocmd import CmcScraper"
   ]
  },
  {
   "cell_type": "code",
   "execution_count": 10,
   "metadata": {},
   "outputs": [
    {
     "data": {
      "text/html": [
       "<div>\n",
       "<style scoped>\n",
       "    .dataframe tbody tr th:only-of-type {\n",
       "        vertical-align: middle;\n",
       "    }\n",
       "\n",
       "    .dataframe tbody tr th {\n",
       "        vertical-align: top;\n",
       "    }\n",
       "\n",
       "    .dataframe thead th {\n",
       "        text-align: right;\n",
       "    }\n",
       "</style>\n",
       "<table border=\"1\" class=\"dataframe\">\n",
       "  <thead>\n",
       "    <tr style=\"text-align: right;\">\n",
       "      <th></th>\n",
       "      <th>Date</th>\n",
       "      <th>Open</th>\n",
       "      <th>High</th>\n",
       "      <th>Low</th>\n",
       "      <th>Close</th>\n",
       "      <th>Volume</th>\n",
       "      <th>Market Cap</th>\n",
       "    </tr>\n",
       "  </thead>\n",
       "  <tbody>\n",
       "    <tr>\n",
       "      <td>0</td>\n",
       "      <td>2020-08-03</td>\n",
       "      <td>371.133859</td>\n",
       "      <td>396.506992</td>\n",
       "      <td>369.336333</td>\n",
       "      <td>386.295173</td>\n",
       "      <td>1.283465e+10</td>\n",
       "      <td>4.327773e+10</td>\n",
       "    </tr>\n",
       "    <tr>\n",
       "      <td>1</td>\n",
       "      <td>2020-08-02</td>\n",
       "      <td>385.549871</td>\n",
       "      <td>411.228312</td>\n",
       "      <td>357.143634</td>\n",
       "      <td>370.671711</td>\n",
       "      <td>1.890974e+10</td>\n",
       "      <td>4.152232e+10</td>\n",
       "    </tr>\n",
       "    <tr>\n",
       "      <td>2</td>\n",
       "      <td>2020-08-01</td>\n",
       "      <td>345.798602</td>\n",
       "      <td>388.847974</td>\n",
       "      <td>343.587434</td>\n",
       "      <td>385.199719</td>\n",
       "      <td>1.404526e+10</td>\n",
       "      <td>4.314448e+10</td>\n",
       "    </tr>\n",
       "    <tr>\n",
       "      <td>3</td>\n",
       "      <td>2020-07-31</td>\n",
       "      <td>334.633743</td>\n",
       "      <td>348.611372</td>\n",
       "      <td>329.340937</td>\n",
       "      <td>345.554649</td>\n",
       "      <td>1.203060e+10</td>\n",
       "      <td>3.869928e+10</td>\n",
       "    </tr>\n",
       "    <tr>\n",
       "      <td>4</td>\n",
       "      <td>2020-07-30</td>\n",
       "      <td>318.144986</td>\n",
       "      <td>338.631190</td>\n",
       "      <td>315.751090</td>\n",
       "      <td>334.586629</td>\n",
       "      <td>1.182769e+10</td>\n",
       "      <td>3.746638e+10</td>\n",
       "    </tr>\n",
       "  </tbody>\n",
       "</table>\n",
       "</div>"
      ],
      "text/plain": [
       "        Date        Open        High         Low       Close        Volume  \\\n",
       "0 2020-08-03  371.133859  396.506992  369.336333  386.295173  1.283465e+10   \n",
       "1 2020-08-02  385.549871  411.228312  357.143634  370.671711  1.890974e+10   \n",
       "2 2020-08-01  345.798602  388.847974  343.587434  385.199719  1.404526e+10   \n",
       "3 2020-07-31  334.633743  348.611372  329.340937  345.554649  1.203060e+10   \n",
       "4 2020-07-30  318.144986  338.631190  315.751090  334.586629  1.182769e+10   \n",
       "\n",
       "     Market Cap  \n",
       "0  4.327773e+10  \n",
       "1  4.152232e+10  \n",
       "2  4.314448e+10  \n",
       "3  3.869928e+10  \n",
       "4  3.746638e+10  "
      ]
     },
     "execution_count": 10,
     "metadata": {},
     "output_type": "execute_result"
    }
   ],
   "source": [
    "scraper = CmcScraper(\"ETH\",\"04-08-2010\", \"03-08-2020\")\n",
    "xrp_json_data = scraper.get_data(\"json\")\n",
    "df = scraper.get_dataframe()\n",
    "df.head()"
   ]
  },
  {
   "cell_type": "code",
   "execution_count": 11,
   "metadata": {},
   "outputs": [
    {
     "data": {
      "text/plain": [
       "1824"
      ]
     },
     "execution_count": 11,
     "metadata": {},
     "output_type": "execute_result"
    }
   ],
   "source": [
    "len(df)"
   ]
  },
  {
   "cell_type": "code",
   "execution_count": 12,
   "metadata": {},
   "outputs": [
    {
     "data": {
      "text/html": [
       "<div>\n",
       "<style scoped>\n",
       "    .dataframe tbody tr th:only-of-type {\n",
       "        vertical-align: middle;\n",
       "    }\n",
       "\n",
       "    .dataframe tbody tr th {\n",
       "        vertical-align: top;\n",
       "    }\n",
       "\n",
       "    .dataframe thead th {\n",
       "        text-align: right;\n",
       "    }\n",
       "</style>\n",
       "<table border=\"1\" class=\"dataframe\">\n",
       "  <thead>\n",
       "    <tr style=\"text-align: right;\">\n",
       "      <th></th>\n",
       "      <th>Date</th>\n",
       "      <th>Open</th>\n",
       "      <th>High</th>\n",
       "      <th>Low</th>\n",
       "      <th>Close</th>\n",
       "      <th>Volume</th>\n",
       "      <th>Market Cap</th>\n",
       "    </tr>\n",
       "  </thead>\n",
       "  <tbody>\n",
       "    <tr>\n",
       "      <td>1819</td>\n",
       "      <td>2015-08-11</td>\n",
       "      <td>0.708087</td>\n",
       "      <td>1.131410</td>\n",
       "      <td>0.663235</td>\n",
       "      <td>1.067860</td>\n",
       "      <td>1463100.0</td>\n",
       "      <td>6.456929e+07</td>\n",
       "    </tr>\n",
       "    <tr>\n",
       "      <td>1820</td>\n",
       "      <td>2015-08-10</td>\n",
       "      <td>0.713989</td>\n",
       "      <td>0.729854</td>\n",
       "      <td>0.636546</td>\n",
       "      <td>0.708448</td>\n",
       "      <td>405283.0</td>\n",
       "      <td>4.281836e+07</td>\n",
       "    </tr>\n",
       "    <tr>\n",
       "      <td>1821</td>\n",
       "      <td>2015-08-09</td>\n",
       "      <td>0.706136</td>\n",
       "      <td>0.879810</td>\n",
       "      <td>0.629191</td>\n",
       "      <td>0.701897</td>\n",
       "      <td>532170.0</td>\n",
       "      <td>4.239957e+07</td>\n",
       "    </tr>\n",
       "    <tr>\n",
       "      <td>1822</td>\n",
       "      <td>2015-08-08</td>\n",
       "      <td>2.793760</td>\n",
       "      <td>2.798810</td>\n",
       "      <td>0.714725</td>\n",
       "      <td>0.753325</td>\n",
       "      <td>674188.0</td>\n",
       "      <td>4.548689e+07</td>\n",
       "    </tr>\n",
       "    <tr>\n",
       "      <td>1823</td>\n",
       "      <td>2015-08-07</td>\n",
       "      <td>2.831620</td>\n",
       "      <td>3.536610</td>\n",
       "      <td>2.521120</td>\n",
       "      <td>2.772120</td>\n",
       "      <td>164329.0</td>\n",
       "      <td>1.666106e+08</td>\n",
       "    </tr>\n",
       "  </tbody>\n",
       "</table>\n",
       "</div>"
      ],
      "text/plain": [
       "           Date      Open      High       Low     Close     Volume  \\\n",
       "1819 2015-08-11  0.708087  1.131410  0.663235  1.067860  1463100.0   \n",
       "1820 2015-08-10  0.713989  0.729854  0.636546  0.708448   405283.0   \n",
       "1821 2015-08-09  0.706136  0.879810  0.629191  0.701897   532170.0   \n",
       "1822 2015-08-08  2.793760  2.798810  0.714725  0.753325   674188.0   \n",
       "1823 2015-08-07  2.831620  3.536610  2.521120  2.772120   164329.0   \n",
       "\n",
       "        Market Cap  \n",
       "1819  6.456929e+07  \n",
       "1820  4.281836e+07  \n",
       "1821  4.239957e+07  \n",
       "1822  4.548689e+07  \n",
       "1823  1.666106e+08  "
      ]
     },
     "execution_count": 12,
     "metadata": {},
     "output_type": "execute_result"
    }
   ],
   "source": [
    "df.tail()"
   ]
  },
  {
   "cell_type": "code",
   "execution_count": null,
   "metadata": {},
   "outputs": [],
   "source": []
  }
 ],
 "metadata": {
  "kernelspec": {
   "display_name": "Python 3",
   "language": "python",
   "name": "python3"
  },
  "language_info": {
   "codemirror_mode": {
    "name": "ipython",
    "version": 3
   },
   "file_extension": ".py",
   "mimetype": "text/x-python",
   "name": "python",
   "nbconvert_exporter": "python",
   "pygments_lexer": "ipython3",
   "version": "3.7.4"
  }
 },
 "nbformat": 4,
 "nbformat_minor": 2
}
