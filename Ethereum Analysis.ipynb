{
 "cells": [
  {
   "cell_type": "code",
   "execution_count": 3,
   "metadata": {},
   "outputs": [],
   "source": [
    "from cryptocmd import CmcScraper"
   ]
  },
  {
   "cell_type": "code",
   "execution_count": 13,
   "metadata": {},
   "outputs": [
    {
     "data": {
      "text/html": [
       "<div>\n",
       "<style scoped>\n",
       "    .dataframe tbody tr th:only-of-type {\n",
       "        vertical-align: middle;\n",
       "    }\n",
       "\n",
       "    .dataframe tbody tr th {\n",
       "        vertical-align: top;\n",
       "    }\n",
       "\n",
       "    .dataframe thead th {\n",
       "        text-align: right;\n",
       "    }\n",
       "</style>\n",
       "<table border=\"1\" class=\"dataframe\">\n",
       "  <thead>\n",
       "    <tr style=\"text-align: right;\">\n",
       "      <th></th>\n",
       "      <th>Date</th>\n",
       "      <th>Open</th>\n",
       "      <th>High</th>\n",
       "      <th>Low</th>\n",
       "      <th>Close</th>\n",
       "      <th>Volume</th>\n",
       "      <th>Market Cap</th>\n",
       "    </tr>\n",
       "  </thead>\n",
       "  <tbody>\n",
       "    <tr>\n",
       "      <td>0</td>\n",
       "      <td>2022-08-03</td>\n",
       "      <td>1633.051317</td>\n",
       "      <td>1678.098258</td>\n",
       "      <td>1595.634523</td>\n",
       "      <td>1618.874543</td>\n",
       "      <td>1.678622e+10</td>\n",
       "      <td>1.972085e+11</td>\n",
       "    </tr>\n",
       "    <tr>\n",
       "      <td>1</td>\n",
       "      <td>2022-08-02</td>\n",
       "      <td>1634.645845</td>\n",
       "      <td>1672.629811</td>\n",
       "      <td>1567.851047</td>\n",
       "      <td>1632.945439</td>\n",
       "      <td>2.042608e+10</td>\n",
       "      <td>1.989008e+11</td>\n",
       "    </tr>\n",
       "    <tr>\n",
       "      <td>2</td>\n",
       "      <td>2022-08-01</td>\n",
       "      <td>1681.445563</td>\n",
       "      <td>1700.170903</td>\n",
       "      <td>1613.415966</td>\n",
       "      <td>1635.195792</td>\n",
       "      <td>1.619137e+10</td>\n",
       "      <td>1.991528e+11</td>\n",
       "    </tr>\n",
       "    <tr>\n",
       "      <td>3</td>\n",
       "      <td>2022-07-31</td>\n",
       "      <td>1695.884774</td>\n",
       "      <td>1745.883193</td>\n",
       "      <td>1672.612824</td>\n",
       "      <td>1681.517319</td>\n",
       "      <td>1.420074e+10</td>\n",
       "      <td>2.047717e+11</td>\n",
       "    </tr>\n",
       "    <tr>\n",
       "      <td>4</td>\n",
       "      <td>2022-07-30</td>\n",
       "      <td>1727.061942</td>\n",
       "      <td>1738.016892</td>\n",
       "      <td>1678.108088</td>\n",
       "      <td>1695.969500</td>\n",
       "      <td>1.557698e+10</td>\n",
       "      <td>2.065088e+11</td>\n",
       "    </tr>\n",
       "  </tbody>\n",
       "</table>\n",
       "</div>"
      ],
      "text/plain": [
       "        Date         Open         High          Low        Close  \\\n",
       "0 2022-08-03  1633.051317  1678.098258  1595.634523  1618.874543   \n",
       "1 2022-08-02  1634.645845  1672.629811  1567.851047  1632.945439   \n",
       "2 2022-08-01  1681.445563  1700.170903  1613.415966  1635.195792   \n",
       "3 2022-07-31  1695.884774  1745.883193  1672.612824  1681.517319   \n",
       "4 2022-07-30  1727.061942  1738.016892  1678.108088  1695.969500   \n",
       "\n",
       "         Volume    Market Cap  \n",
       "0  1.678622e+10  1.972085e+11  \n",
       "1  2.042608e+10  1.989008e+11  \n",
       "2  1.619137e+10  1.991528e+11  \n",
       "3  1.420074e+10  2.047717e+11  \n",
       "4  1.557698e+10  2.065088e+11  "
      ]
     },
     "execution_count": 13,
     "metadata": {},
     "output_type": "execute_result"
    }
   ],
   "source": [
    "scraper = CmcScraper(\"ETH\",\"04-08-2010\", \"03-08-2022\")\n",
    "xrp_json_data = scraper.get_data(\"json\")\n",
    "df = scraper.get_dataframe()\n",
    "df.head()"
   ]
  },
  {
   "cell_type": "code",
   "execution_count": 14,
   "metadata": {},
   "outputs": [
    {
     "data": {
      "text/plain": [
       "2554"
      ]
     },
     "execution_count": 14,
     "metadata": {},
     "output_type": "execute_result"
    }
   ],
   "source": [
    "len(df)"
   ]
  },
  {
   "cell_type": "code",
   "execution_count": 15,
   "metadata": {},
   "outputs": [
    {
     "data": {
      "text/html": [
       "<div>\n",
       "<style scoped>\n",
       "    .dataframe tbody tr th:only-of-type {\n",
       "        vertical-align: middle;\n",
       "    }\n",
       "\n",
       "    .dataframe tbody tr th {\n",
       "        vertical-align: top;\n",
       "    }\n",
       "\n",
       "    .dataframe thead th {\n",
       "        text-align: right;\n",
       "    }\n",
       "</style>\n",
       "<table border=\"1\" class=\"dataframe\">\n",
       "  <thead>\n",
       "    <tr style=\"text-align: right;\">\n",
       "      <th></th>\n",
       "      <th>Date</th>\n",
       "      <th>Open</th>\n",
       "      <th>High</th>\n",
       "      <th>Low</th>\n",
       "      <th>Close</th>\n",
       "      <th>Volume</th>\n",
       "      <th>Market Cap</th>\n",
       "    </tr>\n",
       "  </thead>\n",
       "  <tbody>\n",
       "    <tr>\n",
       "      <td>2549</td>\n",
       "      <td>2015-08-11</td>\n",
       "      <td>0.708087</td>\n",
       "      <td>1.131410</td>\n",
       "      <td>0.663235</td>\n",
       "      <td>1.067860</td>\n",
       "      <td>1463100.0</td>\n",
       "      <td>6.456929e+07</td>\n",
       "    </tr>\n",
       "    <tr>\n",
       "      <td>2550</td>\n",
       "      <td>2015-08-10</td>\n",
       "      <td>0.713989</td>\n",
       "      <td>0.729854</td>\n",
       "      <td>0.636546</td>\n",
       "      <td>0.708448</td>\n",
       "      <td>405283.0</td>\n",
       "      <td>4.281836e+07</td>\n",
       "    </tr>\n",
       "    <tr>\n",
       "      <td>2551</td>\n",
       "      <td>2015-08-09</td>\n",
       "      <td>0.706136</td>\n",
       "      <td>0.879810</td>\n",
       "      <td>0.629191</td>\n",
       "      <td>0.701897</td>\n",
       "      <td>532170.0</td>\n",
       "      <td>4.239957e+07</td>\n",
       "    </tr>\n",
       "    <tr>\n",
       "      <td>2552</td>\n",
       "      <td>2015-08-08</td>\n",
       "      <td>2.793760</td>\n",
       "      <td>2.798810</td>\n",
       "      <td>0.714725</td>\n",
       "      <td>0.753325</td>\n",
       "      <td>674188.0</td>\n",
       "      <td>4.548689e+07</td>\n",
       "    </tr>\n",
       "    <tr>\n",
       "      <td>2553</td>\n",
       "      <td>2015-08-07</td>\n",
       "      <td>2.831620</td>\n",
       "      <td>3.536610</td>\n",
       "      <td>2.521120</td>\n",
       "      <td>2.772120</td>\n",
       "      <td>164329.0</td>\n",
       "      <td>1.666106e+08</td>\n",
       "    </tr>\n",
       "  </tbody>\n",
       "</table>\n",
       "</div>"
      ],
      "text/plain": [
       "           Date      Open      High       Low     Close     Volume  \\\n",
       "2549 2015-08-11  0.708087  1.131410  0.663235  1.067860  1463100.0   \n",
       "2550 2015-08-10  0.713989  0.729854  0.636546  0.708448   405283.0   \n",
       "2551 2015-08-09  0.706136  0.879810  0.629191  0.701897   532170.0   \n",
       "2552 2015-08-08  2.793760  2.798810  0.714725  0.753325   674188.0   \n",
       "2553 2015-08-07  2.831620  3.536610  2.521120  2.772120   164329.0   \n",
       "\n",
       "        Market Cap  \n",
       "2549  6.456929e+07  \n",
       "2550  4.281836e+07  \n",
       "2551  4.239957e+07  \n",
       "2552  4.548689e+07  \n",
       "2553  1.666106e+08  "
      ]
     },
     "execution_count": 15,
     "metadata": {},
     "output_type": "execute_result"
    }
   ],
   "source": [
    "df.tail()"
   ]
  },
  {
   "cell_type": "markdown",
   "metadata": {},
   "source": [
    "Exploratory Analysis"
   ]
  },
  {
   "cell_type": "code",
   "execution_count": null,
   "metadata": {},
   "outputs": [],
   "source": []
  }
 ],
 "metadata": {
  "kernelspec": {
   "display_name": "Python 3",
   "language": "python",
   "name": "python3"
  },
  "language_info": {
   "codemirror_mode": {
    "name": "ipython",
    "version": 3
   },
   "file_extension": ".py",
   "mimetype": "text/x-python",
   "name": "python",
   "nbconvert_exporter": "python",
   "pygments_lexer": "ipython3",
   "version": "3.7.4"
  }
 },
 "nbformat": 4,
 "nbformat_minor": 2
}
